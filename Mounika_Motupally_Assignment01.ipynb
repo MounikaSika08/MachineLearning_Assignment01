{
 "cells": [
  {
   "cell_type": "markdown",
   "id": "e32e5d37",
   "metadata": {},
   "source": [
    "# Name: Mounika Motupally\n",
    "700#: 700741855\n",
    "Git hub link : https://github.com/MounikaSika08/MachineLearning_Assignment01"
   ]
  },
  {
   "cell_type": "code",
   "execution_count": 43,
   "id": "b6605a2e",
   "metadata": {},
   "outputs": [],
   "source": [
    "import numpy as np"
   ]
  },
  {
   "cell_type": "raw",
   "id": "00377cd8",
   "metadata": {},
   "source": [
    "a. Using NumPy create random vector of size 15 having only Integers in the range 1-20.\n",
    "    1. Reshape the array to 3 by 5\n",
    "    2. Print array shape.\n",
    "    3. Replace the max in each row by 0\n",
    "Create a 2-dimensional array of size 4 x 3 (composed of 4-byte integer elements), also print the shape, type and data type of the array."
   ]
  },
  {
   "cell_type": "code",
   "execution_count": 44,
   "id": "27e55cdd",
   "metadata": {},
   "outputs": [
    {
     "data": {
      "text/plain": [
       "array([ 3, 13, 16,  8,  5,  2,  8,  3, 18, 18, 17,  9, 18,  8, 19])"
      ]
     },
     "execution_count": 44,
     "metadata": {},
     "output_type": "execute_result"
    }
   ],
   "source": [
    "array = np.random.randint(1,20,15)\n",
    "array"
   ]
  },
  {
   "cell_type": "code",
   "execution_count": 45,
   "id": "18af744a",
   "metadata": {},
   "outputs": [
    {
     "data": {
      "text/plain": [
       "array([[ 3, 13, 16,  8,  5],\n",
       "       [ 2,  8,  3, 18, 18],\n",
       "       [17,  9, 18,  8, 19]])"
      ]
     },
     "execution_count": 45,
     "metadata": {},
     "output_type": "execute_result"
    }
   ],
   "source": [
    "array = array.reshape(3,5)\n",
    "array"
   ]
  },
  {
   "cell_type": "code",
   "execution_count": 46,
   "id": "6e3ceed8",
   "metadata": {},
   "outputs": [
    {
     "data": {
      "text/plain": [
       "array([[ 3, 13,  0,  8,  5],\n",
       "       [ 2,  8,  3,  0, 18],\n",
       "       [17,  9, 18,  8,  0]])"
      ]
     },
     "execution_count": 46,
     "metadata": {},
     "output_type": "execute_result"
    }
   ],
   "source": [
    "# Getting the index of max element in each row. axis=1 means it is for a row.\n",
    "# This returns a one-dimensional array. \n",
    "# If there are multiple entries of the max value in a row, the index of the first occurred max value will be returned.\n",
    "index_row_max = array.argmax(axis=1)\n",
    "\n",
    "#Iterating through the array and replacing the max element with '0'\n",
    "\n",
    "row = 0\n",
    "for column in index_row_max:\n",
    "    array[row][column] = 0\n",
    "    row = row+1\n",
    "array"
   ]
  },
  {
   "cell_type": "code",
   "execution_count": 47,
   "id": "5e940d5f",
   "metadata": {},
   "outputs": [
    {
     "data": {
      "text/plain": [
       "array([[ 0,  1,  2,  3,  4],\n",
       "       [ 5,  6,  7,  8,  9],\n",
       "       [10, 11, 12, 13, 14],\n",
       "       [15, 16, 17, 18, 19]], dtype=int32)"
      ]
     },
     "execution_count": 47,
     "metadata": {},
     "output_type": "execute_result"
    }
   ],
   "source": [
    "array_2D = np.arange(20,  dtype=np.int32).reshape(4,5)\n",
    "array_2D"
   ]
  },
  {
   "cell_type": "code",
   "execution_count": 48,
   "id": "dc3a3ed2",
   "metadata": {},
   "outputs": [
    {
     "name": "stdout",
     "output_type": "stream",
     "text": [
      "Shape of array_2D is:  (4, 5)\n",
      "Type of array_2D is:  <class 'numpy.ndarray'>\n",
      "DType of array_2D is:  int32\n"
     ]
    }
   ],
   "source": [
    "print(\"Shape of array_2D is: \", array_2D.shape)\n",
    "print(\"Type of array_2D is: \", type(array_2D))\n",
    "print(\"DType of array_2D is: \", array_2D.dtype)"
   ]
  },
  {
   "cell_type": "raw",
   "id": "20154b3d",
   "metadata": {},
   "source": [
    "b. Write a program to compute the eigenvalues and right eigenvectors of a given square array given below: \n",
    "\n",
    "    [[ 3 -2]\n",
    "    [ 1 0]]"
   ]
  },
  {
   "cell_type": "code",
   "execution_count": 49,
   "id": "0425bdee",
   "metadata": {},
   "outputs": [
    {
     "data": {
      "text/plain": [
       "array([[ 3, -2],\n",
       "       [ 1,  0]])"
      ]
     },
     "execution_count": 49,
     "metadata": {},
     "output_type": "execute_result"
    }
   ],
   "source": [
    "array1 = np.array([[3, -2], [1, 0]])\n",
    "array1"
   ]
  },
  {
   "cell_type": "code",
   "execution_count": 50,
   "id": "5f428dc0",
   "metadata": {},
   "outputs": [
    {
     "data": {
      "text/plain": [
       "(array([2., 1.]),\n",
       " array([[0.89442719, 0.70710678],\n",
       "        [0.4472136 , 0.70710678]]))"
      ]
     },
     "execution_count": 50,
     "metadata": {},
     "output_type": "execute_result"
    }
   ],
   "source": [
    "np.linalg.eig(array1)\n",
    "# The first array is eigen values and the second array is eigen vectors."
   ]
  },
  {
   "cell_type": "raw",
   "id": "5a65fc99",
   "metadata": {},
   "source": [
    "c. Compute the sum of the diagonal element of a given array.\n",
    "    [[0 1 2] \n",
    "     [3 4 5]]"
   ]
  },
  {
   "cell_type": "code",
   "execution_count": 51,
   "id": "b59c9ea3",
   "metadata": {},
   "outputs": [
    {
     "name": "stdout",
     "output_type": "stream",
     "text": [
      "Array is \n",
      " [[0 1 2]\n",
      " [3 4 5]]\n",
      "Diagonal elements are \n",
      " [0 4]\n",
      "Sum of diagonal elements are :  4\n"
     ]
    }
   ],
   "source": [
    "array2 = np.array([[0,1,2], [3,4,5]])\n",
    "print(\"Array is \\n\", array2)\n",
    "diag = np.diag(array2)\n",
    "print(\"Diagonal elements are \\n\", diag)\n",
    "sum_diag = np.sum(diag)\n",
    "print(\"Sum of diagonal elements are : \", sum_diag)"
   ]
  },
  {
   "cell_type": "raw",
   "id": "3ae22229",
   "metadata": {},
   "source": [
    "d. Write a NumPy program to create a new shape to an array without changing its data. Reshape 3x2:\n",
    "\n",
    "    [[1 2]\n",
    "    [3 4]\n",
    "    [5 6]] \n",
    "    \n",
    "Reshape 2x3: \n",
    "    [[1 2 3]\n",
    "     [4 5 6]]"
   ]
  },
  {
   "cell_type": "code",
   "execution_count": 52,
   "id": "885f84be",
   "metadata": {},
   "outputs": [
    {
     "name": "stdout",
     "output_type": "stream",
     "text": [
      "Initial 2x3 array is:\n",
      " [[1 2]\n",
      " [3 4]\n",
      " [5 6]]\n",
      "Reshaped 3x2 array is: \n",
      " [[1 2 3]\n",
      " [4 5 6]]\n"
     ]
    }
   ],
   "source": [
    "initial_array = np.arange(1,7).reshape(3,2)\n",
    "print(\"Initial 2x3 array is:\\n\", initial_array)\n",
    "initial_array = initial_array.reshape(2,3)\n",
    "print(\"Reshaped 3x2 array is: \\n\", initial_array)"
   ]
  },
  {
   "cell_type": "raw",
   "id": "1328962d",
   "metadata": {},
   "source": [
    "2. Matplotlib\n",
    "1. Write a Python programming to create a below chart of the popularity of programming Languages.\n",
    "2. Sample data:\n",
    "Programming languages: Java, Python, PHP, JavaScript, C#, C++ Popularity: 22.2, 17.6, 8.8, 8, 7.7, 6.7"
   ]
  },
  {
   "cell_type": "code",
   "execution_count": 53,
   "id": "0cde59f5",
   "metadata": {},
   "outputs": [],
   "source": [
    "%matplotlib inline\n",
    "from matplotlib import pyplot as plt"
   ]
  },
  {
   "cell_type": "code",
   "execution_count": 54,
   "id": "f21c2867",
   "metadata": {},
   "outputs": [
    {
     "data": {
      "image/png": "[encoded data removed]",
      "text/plain": [
       "<Figure size 640x480 with 1 Axes>"
      ]
     },
     "metadata": {},
     "output_type": "display_data"
    }
   ],
   "source": [
    "plt.style.use('seaborn-white')\n",
    "programming_languages = ['Java', 'Python', 'PHP', 'JavaScript', 'C#', 'C++']\n",
    "popularity = [22.2, 17.6, 8.8, 8, 7.7, 6.7]\n",
    "colors = ['tab:blue', 'tab:orange', 'tab:green', 'tab:red', 'tab:purple', 'tab:brown']\n",
    "explode_values = [0.1,0,0,0,0,0]\n",
    "\n",
    "plt.pie(popularity, labels=programming_languages, colors=colors,\n",
    "        wedgeprops={'edgecolor': 'black'}, autopct='%1.1f%%', explode = explode_values)\n",
    "plt.show()"
   ]
  },
  {
   "cell_type": "markdown",
   "id": "59c2e4b7",
   "metadata": {},
   "source": []
  }
 ],
 "metadata": {
  "kernelspec": {
   "display_name": "Python 3 (ipykernel)",
   "language": "python",
   "name": "python3"
  },
  "language_info": {
   "codemirror_mode": {
    "name": "ipython",
    "version": 3
   },
   "file_extension": ".py",
   "mimetype": "text/x-python",
   "name": "python",
   "nbconvert_exporter": "python",
   "pygments_lexer": "ipython3",
   "version": "3.9.13"
  }
 },
 "nbformat": 4,
 "nbformat_minor": 5
}
